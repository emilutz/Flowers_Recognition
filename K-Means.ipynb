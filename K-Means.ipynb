{
 "cells": [
  {
   "cell_type": "code",
   "execution_count": 1,
   "metadata": {},
   "outputs": [],
   "source": [
    "import numpy as np\n",
    "import matplotlib.pyplot as plt\n",
    "from functions import *\n",
    "\n",
    "\n",
    "# load the histograms and the labels\n",
    "histograms = np.load(os.path.join('colour_histograms','histograms.dat'))\n",
    "labels = np.load(os.path.join('colour_histograms','labels.dat'))"
   ]
  },
  {
   "cell_type": "code",
   "execution_count": 2,
   "metadata": {},
   "outputs": [
    {
     "name": "stdout",
     "output_type": "stream",
     "text": [
      "            daisy dandl  rose sunfl tulip\n",
      "Cluster [0]:   17    12    16    28    27  \n",
      "Cluster [1]:   24    23    32     7    14  \n",
      "Cluster [2]:   19    30     8    29    13  \n",
      "Cluster [3]:   16    26    20    15    23  \n",
      "Cluster [4]:   18    21    20    12    28  \n"
     ]
    }
   ],
   "source": [
    "from collections import Counter\n",
    "from sklearn.cluster import KMeans\n",
    "\n",
    "# call K-means algorithm from scikit\n",
    "classes = 5\n",
    "kmeans = KMeans(n_clusters=classes, random_state=0).fit(histograms)\n",
    "\n",
    "# clusters is an array of 5 elements\n",
    "clusters = classes * [None]\n",
    "\n",
    "# counting how many instance of every class appears in each cluster\n",
    "for i in range(classes):\n",
    "    clusters[i] = Counter([labels[x] for x in range(len(labels)) if kmeans.labels_[x] == i])\n",
    "\n",
    "# pretty print the entropy of the clusters\n",
    "print('            daisy dandl  rose sunfl tulip') \n",
    "for i in range(classes):\n",
    "    print('Cluster [{0}]:'.format(i), end=\"\")\n",
    "    for j in range(classes):\n",
    "        print('{0:>5.0f} '.format(100 * clusters[i][j] / sum(clusters[i].values())), end=\"\")\n",
    "    print(\" \")\n",
    "\n"
   ]
  }
 ],
 "metadata": {
  "kernelspec": {
   "display_name": "Python [conda env:work]",
   "language": "python",
   "name": "conda-env-work-py"
  },
  "language_info": {
   "codemirror_mode": {
    "name": "ipython",
    "version": 3
   },
   "file_extension": ".py",
   "mimetype": "text/x-python",
   "name": "python",
   "nbconvert_exporter": "python",
   "pygments_lexer": "ipython3",
   "version": "3.6.3"
  }
 },
 "nbformat": 4,
 "nbformat_minor": 2
}
