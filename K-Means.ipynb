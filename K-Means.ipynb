{
 "cells": [
  {
   "cell_type": "code",
   "execution_count": 7,
   "metadata": {},
   "outputs": [],
   "source": [
    "import numpy as np\n",
    "import matplotlib.pyplot as plt\n",
    "from functions import *\n",
    "\n",
    "\n",
    "# load the histograms and the labels\n",
    "histograms = np.load(os.path.join('colour_histograms','histograms.dat'))\n",
    "labels = np.load(os.path.join('colour_histograms','labels.dat'))"
   ]
  },
  {
   "cell_type": "code",
   "execution_count": 16,
   "metadata": {},
   "outputs": [
    {
     "name": "stdout",
     "output_type": "stream",
     "text": [
      "            daisy dandl  rose sunfl tulip\n",
      "Cluster [0]: 16.6  11.9  15.5  28.5  27.5  \n",
      "Cluster [1]: 23.8  22.9  32.2   6.5  14.5  \n",
      "Cluster [2]: 19.0  30.4   8.3  28.9  13.5  \n",
      "Cluster [3]: 16.0  26.0  19.6  15.2  23.2  \n",
      "Cluster [4]: 18.4  20.9  20.3  12.3  28.1  \n"
     ]
    }
   ],
   "source": [
    "from collections import Counter\n",
    "from sklearn.cluster import KMeans\n",
    "\n",
    "classes = 5\n",
    "kmeans = KMeans(n_clusters=classes, random_state=0).fit(histograms)\n",
    "\n",
    "clusters = classes * [None]\n",
    "for i in range(classes):\n",
    "    clusters[i] = Counter([labels[x] for x in range(len(labels)) if kmeans.labels_[x] == i])\n",
    "\n",
    "print('            daisy dandl  rose sunfl tulip') \n",
    "for i in range(classes):\n",
    "    print('Cluster [{0}]:'.format(i), end=\"\")\n",
    "    for j in range(classes):\n",
    "        print('{0:>5.1f} '.format(100 * clusters[i][j] / sum(clusters[i].values())), end=\"\")\n",
    "    print(\" \")\n",
    "\n"
   ]
  },
  {
   "cell_type": "code",
   "execution_count": null,
   "metadata": {},
   "outputs": [],
   "source": []
  }
 ],
 "metadata": {
  "kernelspec": {
   "display_name": "Python [conda env:work]",
   "language": "python",
   "name": "conda-env-work-py"
  },
  "language_info": {
   "codemirror_mode": {
    "name": "ipython",
    "version": 3
   },
   "file_extension": ".py",
   "mimetype": "text/x-python",
   "name": "python",
   "nbconvert_exporter": "python",
   "pygments_lexer": "ipython3",
   "version": "3.6.3"
  }
 },
 "nbformat": 4,
 "nbformat_minor": 2
}
