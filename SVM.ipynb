{
 "cells": [
  {
   "cell_type": "code",
   "execution_count": 1,
   "metadata": {},
   "outputs": [],
   "source": [
    "import numpy as np\n",
    "import matplotlib.pyplot as plt\n",
    "from functions import *\n",
    "\n",
    "\n",
    "# load the histograms and the labels\n",
    "histograms = np.load(os.path.join('colour_histograms','hsv.dat'))\n",
    "labels = np.load(os.path.join('colour_histograms','labels.dat'))"
   ]
  },
  {
   "cell_type": "code",
   "execution_count": 2,
   "metadata": {},
   "outputs": [],
   "source": [
    "# generate a random permutation of our data samples\n",
    "data_size = len(labels)\n",
    "perm = np.random.permutation(data_size)\n",
    "\n",
    "# shuffle the data\n",
    "histograms = histograms[perm]\n",
    "labels = labels[perm]\n",
    "\n",
    "# cast the histograms to floats\n",
    "histograms = 100 * histograms.astype(np.float32)\n",
    "\n",
    "# split into training and testing data\n",
    "training_percentage = 0.8\n",
    "\n",
    "histograms_train = histograms[:int(training_percentage * data_size)]\n",
    "labels_train = labels[:int(training_percentage * data_size)]\n",
    "histograms_test = histograms[int(training_percentage * data_size):]\n",
    "labels_test = labels[int(training_percentage * data_size):]"
   ]
  },
  {
   "cell_type": "markdown",
   "metadata": {},
   "source": [
    "# Support Vector Machine for Classification"
   ]
  },
  {
   "cell_type": "markdown",
   "metadata": {},
   "source": [
    "## Linear SVM"
   ]
  },
  {
   "cell_type": "code",
   "execution_count": 3,
   "metadata": {},
   "outputs": [
    {
     "name": "stdout",
     "output_type": "stream",
     "text": [
      "Training Accuracy : 54.71%\n",
      "Testing  Accuracy : 44.86%\n"
     ]
    }
   ],
   "source": [
    "from sklearn.svm import SVC\n",
    "from sklearn.metrics import accuracy_score\n",
    "    \n",
    "# create the svm component\n",
    "lin_clf = SVC(kernel='linear')\n",
    "\n",
    "# fit the data using the SVM\n",
    "lin_clf.fit(histograms_train, labels_train)\n",
    "\n",
    "# predict the classes of the test data\n",
    "test_predictions = lin_clf.predict(histograms_test)\n",
    "# predict the classes of the training data\n",
    "train_predictions = lin_clf.predict(histograms_train)\n",
    "\n",
    "test_score = accuracy_score(labels_test, test_predictions)\n",
    "train_score = accuracy_score(labels_train, train_predictions)\n",
    "\n",
    "print('Training Accuracy : {0:.2f}%'.format(100 * train_score))\n",
    "print('Testing  Accuracy : {0:.2f}%'.format(100 * test_score))"
   ]
  },
  {
   "cell_type": "markdown",
   "metadata": {},
   "source": [
    "### Confussion Matrix (for Linear SVM)"
   ]
  },
  {
   "cell_type": "code",
   "execution_count": 4,
   "metadata": {},
   "outputs": [
    {
     "name": "stdout",
     "output_type": "stream",
     "text": [
      "          |     daisy | dandelion |      rose | sunflower |     tulip\n",
      "    daisy |        51 |        68 |        15 |         9 |        10\n",
      "dandelion |        44 |       125 |        17 |        22 |        13\n",
      "     rose |        13 |        25 |        52 |         6 |        44\n",
      "sunflower |        13 |        53 |        13 |        71 |         6\n",
      "    tulip |        20 |        31 |        39 |        16 |        89\n"
     ]
    }
   ],
   "source": [
    "confusion_matrix(labels_test, test_predictions)"
   ]
  },
  {
   "cell_type": "markdown",
   "metadata": {},
   "source": [
    "## Kernel SVM"
   ]
  },
  {
   "cell_type": "code",
   "execution_count": 5,
   "metadata": {},
   "outputs": [
    {
     "name": "stdout",
     "output_type": "stream",
     "text": [
      "Training Accuracy : 99.74%\n",
      "Testing  Accuracy : 31.56%\n"
     ]
    }
   ],
   "source": [
    "from sklearn.svm import SVC\n",
    "from sklearn.metrics import accuracy_score\n",
    "    \n",
    "# create the svm component\n",
    "rbf_clf = SVC(kernel='rbf')\n",
    "\n",
    "# fit the data using the SVM\n",
    "rbf_clf.fit(histograms_train, labels_train)\n",
    "\n",
    "# predict the classes of the test data\n",
    "test_predictions = rbf_clf.predict(histograms_test)\n",
    "# predict the classes of the training data\n",
    "train_predictions = rbf_clf.predict(histograms_train)\n",
    "\n",
    "test_score = accuracy_score(labels_test, test_predictions)\n",
    "train_score = accuracy_score(labels_train, train_predictions)\n",
    "\n",
    "print('Training Accuracy : {0:.2f}%'.format(100 * train_score))\n",
    "print('Testing  Accuracy : {0:.2f}%'.format(100 * test_score))"
   ]
  },
  {
   "cell_type": "markdown",
   "metadata": {},
   "source": [
    "### Confussion Matrix (for Kernel SVM)"
   ]
  },
  {
   "cell_type": "code",
   "execution_count": 6,
   "metadata": {},
   "outputs": [
    {
     "name": "stdout",
     "output_type": "stream",
     "text": [
      "          |     daisy | dandelion |      rose | sunflower |     tulip\n",
      "    daisy |         7 |       137 |         3 |         0 |         6\n",
      "dandelion |         0 |       214 |         0 |         0 |         7\n",
      "     rose |         0 |       116 |         5 |         0 |        19\n",
      "sunflower |         2 |       145 |         0 |         2 |         7\n",
      "    tulip |         0 |       149 |         1 |         0 |        45\n"
     ]
    }
   ],
   "source": [
    "confusion_matrix(labels_test, test_predictions)"
   ]
  }
 ],
 "metadata": {
  "kernelspec": {
   "display_name": "Python [conda env:work]",
   "language": "python",
   "name": "conda-env-work-py"
  },
  "language_info": {
   "codemirror_mode": {
    "name": "ipython",
    "version": 3
   },
   "file_extension": ".py",
   "mimetype": "text/x-python",
   "name": "python",
   "nbconvert_exporter": "python",
   "pygments_lexer": "ipython3",
   "version": "3.6.3"
  }
 },
 "nbformat": 4,
 "nbformat_minor": 2
}
