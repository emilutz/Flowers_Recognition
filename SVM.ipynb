{
 "cells": [
  {
   "cell_type": "code",
   "execution_count": 1,
   "metadata": {},
   "outputs": [],
   "source": [
    "import numpy as np\n",
    "import matplotlib.pyplot as plt\n",
    "from functions import *\n",
    "\n",
    "\n",
    "# load the histograms and the labels\n",
    "histograms = np.load(os.path.join('colour_histograms','histograms.dat'))\n",
    "labels = np.load(os.path.join('colour_histograms','labels.dat'))"
   ]
  },
  {
   "cell_type": "code",
   "execution_count": 2,
   "metadata": {},
   "outputs": [],
   "source": [
    "# generate a random permutation of our data samples\n",
    "data_size = len(labels)\n",
    "perm = np.random.permutation(data_size)\n",
    "\n",
    "# shuffle the data\n",
    "histograms = histograms[perm]\n",
    "labels = labels[perm]\n",
    "\n",
    "# cast the histograms to floats\n",
    "histograms = 100 * histograms.astype(np.float32)\n",
    "\n",
    "# split into training and testing data\n",
    "training_percentage = 0.8\n",
    "\n",
    "histograms_train = histograms[:int(training_percentage * data_size)]\n",
    "labels_train = labels[:int(training_percentage * data_size)]\n",
    "histograms_test = histograms[int(training_percentage * data_size):]\n",
    "labels_test = labels[int(training_percentage * data_size):]"
   ]
  },
  {
   "cell_type": "markdown",
   "metadata": {},
   "source": [
    "# Support Vector Machine for Classification"
   ]
  },
  {
   "cell_type": "markdown",
   "metadata": {},
   "source": [
    "## Linear SVM"
   ]
  },
  {
   "cell_type": "code",
   "execution_count": 3,
   "metadata": {},
   "outputs": [
    {
     "name": "stdout",
     "output_type": "stream",
     "text": [
      "Training Accuracy : 0.51%\n",
      "Testing  Accuracy : 0.43%\n"
     ]
    }
   ],
   "source": [
    "from sklearn.svm import SVC\n",
    "from sklearn.metrics import accuracy_score\n",
    "    \n",
    "# create the svm component\n",
    "lin_clf = SVC(kernel='linear')\n",
    "\n",
    "# fit the data using the SVM\n",
    "lin_clf.fit(histograms_train, labels_train)\n",
    "\n",
    "# predict the classes of the test data\n",
    "test_predictions = lin_clf.predict(histograms_test)\n",
    "# predict the classes of the training data\n",
    "train_predictions = lin_clf.predict(histograms_train)\n",
    "\n",
    "test_score = accuracy_score(labels_test, test_predictions)\n",
    "train_score = accuracy_score(labels_train, train_predictions)\n",
    "\n",
    "print('Training Accuracy : {0:.2f}%'.format(100 * train_score))\n",
    "print('Testing  Accuracy : {0:.2f}%'.format(100 * test_score))"
   ]
  },
  {
   "cell_type": "markdown",
   "metadata": {},
   "source": [
    "## Kernel SVM"
   ]
  },
  {
   "cell_type": "code",
   "execution_count": 7,
   "metadata": {},
   "outputs": [
    {
     "name": "stdout",
     "output_type": "stream",
     "text": [
      "Training Accuracy : 98.00%\n",
      "Testing  Accuracy : 41.39%\n"
     ]
    }
   ],
   "source": [
    "from sklearn.svm import SVC\n",
    "from sklearn.metrics import accuracy_score\n",
    "    \n",
    "# create the svm component\n",
    "rbf_clf = SVC(kernel='rbf')\n",
    "\n",
    "# fit the data using the SVM\n",
    "rbf_clf.fit(histograms_train, labels_train)\n",
    "\n",
    "# predict the classes of the test data\n",
    "test_predictions = rbf_clf.predict(histograms_test)\n",
    "# predict the classes of the training data\n",
    "train_predictions = rbf_clf.predict(histograms_train)\n",
    "\n",
    "test_score = accuracy_score(labels_test, test_predictions)\n",
    "train_score = accuracy_score(labels_train, train_predictions)\n",
    "\n",
    "print('Training Accuracy : {0:.2f}%'.format(100 * train_score))\n",
    "print('Testing  Accuracy : {0:.2f}%'.format(100 * test_score))"
   ]
  }
 ],
 "metadata": {
  "kernelspec": {
   "display_name": "Python [conda env:work]",
   "language": "python",
   "name": "conda-env-work-py"
  },
  "language_info": {
   "codemirror_mode": {
    "name": "ipython",
    "version": 3
   },
   "file_extension": ".py",
   "mimetype": "text/x-python",
   "name": "python",
   "nbconvert_exporter": "python",
   "pygments_lexer": "ipython3",
   "version": "3.6.3"
  }
 },
 "nbformat": 4,
 "nbformat_minor": 2
}
