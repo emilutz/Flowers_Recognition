{
 "cells": [
  {
   "cell_type": "code",
   "execution_count": 2,
   "metadata": {},
   "outputs": [],
   "source": [
    "import numpy as np\n",
    "import matplotlib.pyplot as plt\n",
    "from functions import *\n",
    "\n",
    "\n",
    "# load the histograms and the labels\n",
    "histograms = np.load(os.path.join('colour_histograms','histograms.dat'))\n",
    "labels = np.load(os.path.join('colour_histograms','labels.dat'))"
   ]
  },
  {
   "cell_type": "code",
   "execution_count": 8,
   "metadata": {},
   "outputs": [],
   "source": [
    "# generate a random permutation of our data samples\n",
    "data_size = len(labels)\n",
    "perm = np.random.permutation(data_size)\n",
    "\n",
    "# shuffle the data\n",
    "histograms = histograms[perm]\n",
    "labels = labels[perm]\n",
    "\n",
    "# cast the histograms to floats\n",
    "histograms = 100 * histograms.astype(np.float32)\n",
    "\n",
    "# split into training and testing data\n",
    "training_percentage = 0.8\n",
    "\n",
    "histograms_train = histograms[:int(training_percentage * data_size)]\n",
    "labels_train = labels[:int(training_percentage * data_size)]\n",
    "histograms_test = histograms[int(training_percentage * data_size):]\n",
    "labels_test = labels[int(training_percentage * data_size):]"
   ]
  },
  {
   "cell_type": "markdown",
   "metadata": {},
   "source": [
    "# Support Vector Machine for Classification"
   ]
  },
  {
   "cell_type": "markdown",
   "metadata": {},
   "source": [
    "## Linear SVM"
   ]
  },
  {
   "cell_type": "code",
   "execution_count": null,
   "metadata": {},
   "outputs": [],
   "source": [
    "from sklearn.svm import SVC\n",
    "    \n",
    "lin_clf = SVC(kernel='linear')\n",
    "lin_clf.fit(histograms_train, labels_train)\n"
   ]
  },
  {
   "cell_type": "markdown",
   "metadata": {},
   "source": [
    "## Kernel SVM"
   ]
  },
  {
   "cell_type": "code",
   "execution_count": null,
   "metadata": {},
   "outputs": [],
   "source": [
    "# from sklearn.svm import SVC\n",
    "    \n",
    "# rbf_clf = SVC(kernel='rbf')\n",
    "# rbf_clf.fit(histograms_train, labels_train)\n"
   ]
  }
 ],
 "metadata": {
  "kernelspec": {
   "display_name": "Python [conda env:work]",
   "language": "python",
   "name": "conda-env-work-py"
  },
  "language_info": {
   "codemirror_mode": {
    "name": "ipython",
    "version": 3
   },
   "file_extension": ".py",
   "mimetype": "text/x-python",
   "name": "python",
   "nbconvert_exporter": "python",
   "pygments_lexer": "ipython3",
   "version": "3.6.3"
  }
 },
 "nbformat": 4,
 "nbformat_minor": 2
}
