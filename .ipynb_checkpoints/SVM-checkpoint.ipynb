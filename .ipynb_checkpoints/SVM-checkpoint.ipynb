{
 "cells": [
  {
   "cell_type": "code",
   "execution_count": 1,
   "metadata": {},
   "outputs": [],
   "source": [
    "import numpy as np\n",
    "import matplotlib.pyplot as plt\n",
    "from functions import *\n",
    "\n",
    "\n",
    "# load the histograms and the labels\n",
    "histograms = np.load(os.path.join('colour_histograms','histograms.dat'))\n",
    "labels = np.load(os.path.join('colour_histograms','labels.dat'))"
   ]
  },
  {
   "cell_type": "code",
   "execution_count": 2,
   "metadata": {},
   "outputs": [],
   "source": [
    "# generate a random permutation of our data samples\n",
    "data_size = len(labels)\n",
    "perm = np.random.permutation(data_size)\n",
    "\n",
    "# shuffle the data\n",
    "histograms = histograms[perm]\n",
    "labels = labels[perm]\n",
    "\n",
    "# cast the histograms to floats\n",
    "histograms = 100 * histograms.astype(np.float32)\n",
    "\n",
    "# split into training and testing data\n",
    "training_percentage = 0.8\n",
    "\n",
    "histograms_train = histograms[:int(training_percentage * data_size)]\n",
    "labels_train = labels[:int(training_percentage * data_size)]\n",
    "histograms_test = histograms[int(training_percentage * data_size):]\n",
    "labels_test = labels[int(training_percentage * data_size):]"
   ]
  },
  {
   "cell_type": "markdown",
   "metadata": {},
   "source": [
    "# Support Vector Machine for Classification"
   ]
  },
  {
   "cell_type": "markdown",
   "metadata": {},
   "source": [
    "## Linear SVM"
   ]
  },
  {
   "cell_type": "code",
   "execution_count": 3,
   "metadata": {},
   "outputs": [
    {
     "name": "stdout",
     "output_type": "stream",
     "text": [
      "Training Accuracy : 50.64%\n",
      "Testing  Accuracy : 43.93%\n"
     ]
    }
   ],
   "source": [
    "from sklearn.svm import SVC\n",
    "from sklearn.metrics import accuracy_score\n",
    "    \n",
    "# create the svm component\n",
    "lin_clf = SVC(kernel='linear')\n",
    "\n",
    "# fit the data using the SVM\n",
    "lin_clf.fit(histograms_train, labels_train)\n",
    "\n",
    "# predict the classes of the test data\n",
    "test_predictions = lin_clf.predict(histograms_test)\n",
    "# predict the classes of the training data\n",
    "train_predictions = lin_clf.predict(histograms_train)\n",
    "\n",
    "test_score = accuracy_score(labels_test, test_predictions)\n",
    "train_score = accuracy_score(labels_train, train_predictions)\n",
    "\n",
    "print('Training Accuracy : {0:.2f}%'.format(100 * train_score))\n",
    "print('Testing  Accuracy : {0:.2f}%'.format(100 * test_score))"
   ]
  },
  {
   "cell_type": "markdown",
   "metadata": {},
   "source": [
    "### Confussion Matrix (for Linear SVM)"
   ]
  },
  {
   "cell_type": "code",
   "execution_count": 4,
   "metadata": {},
   "outputs": [
    {
     "name": "stdout",
     "output_type": "stream",
     "text": [
      "          |     daisy | dandelion |      rose | sunflower |     tulip\n",
      "    daisy |        65 |        47 |        17 |         5 |        15\n",
      "dandelion |        47 |       125 |        15 |        23 |        18\n",
      "     rose |        17 |        24 |        56 |         6 |        39\n",
      "sunflower |        21 |        48 |         6 |        54 |        22\n",
      "    tulip |        18 |        48 |        40 |         9 |        80\n"
     ]
    }
   ],
   "source": [
    "confusion_matrix(labels_test, test_predictions)"
   ]
  },
  {
   "cell_type": "markdown",
   "metadata": {},
   "source": [
    "## Kernel SVM"
   ]
  },
  {
   "cell_type": "code",
   "execution_count": 5,
   "metadata": {},
   "outputs": [
    {
     "name": "stdout",
     "output_type": "stream",
     "text": [
      "Training Accuracy : 98.24%\n",
      "Testing  Accuracy : 38.61%\n"
     ]
    }
   ],
   "source": [
    "from sklearn.svm import SVC\n",
    "from sklearn.metrics import accuracy_score\n",
    "    \n",
    "# create the svm component\n",
    "rbf_clf = SVC(kernel='rbf')\n",
    "\n",
    "# fit the data using the SVM\n",
    "rbf_clf.fit(histograms_train, labels_train)\n",
    "\n",
    "# predict the classes of the test data\n",
    "test_predictions = rbf_clf.predict(histograms_test)\n",
    "# predict the classes of the training data\n",
    "train_predictions = rbf_clf.predict(histograms_train)\n",
    "\n",
    "test_score = accuracy_score(labels_test, test_predictions)\n",
    "train_score = accuracy_score(labels_train, train_predictions)\n",
    "\n",
    "print('Training Accuracy : {0:.2f}%'.format(100 * train_score))\n",
    "print('Testing  Accuracy : {0:.2f}%'.format(100 * test_score))"
   ]
  },
  {
   "cell_type": "markdown",
   "metadata": {},
   "source": [
    "### Confussion Matrix (for Kernel SVM)"
   ]
  },
  {
   "cell_type": "code",
   "execution_count": 6,
   "metadata": {},
   "outputs": [
    {
     "name": "stdout",
     "output_type": "stream",
     "text": [
      "          |     daisy | dandelion |      rose | sunflower |     tulip\n",
      "    daisy |        16 |       120 |         6 |         2 |         5\n",
      "dandelion |        11 |       190 |         5 |         7 |        15\n",
      "     rose |         7 |        79 |        21 |         4 |        31\n",
      "sunflower |         4 |       100 |         4 |        31 |        12\n",
      "    tulip |         2 |        90 |        19 |         8 |        76\n"
     ]
    }
   ],
   "source": [
    "confusion_matrix(labels_test, test_predictions)"
   ]
  }
 ],
 "metadata": {
  "kernelspec": {
   "display_name": "Python [conda env:work]",
   "language": "python",
   "name": "conda-env-work-py"
  },
  "language_info": {
   "codemirror_mode": {
    "name": "ipython",
    "version": 3
   },
   "file_extension": ".py",
   "mimetype": "text/x-python",
   "name": "python",
   "nbconvert_exporter": "python",
   "pygments_lexer": "ipython3",
   "version": "3.6.3"
  }
 },
 "nbformat": 4,
 "nbformat_minor": 2
}
