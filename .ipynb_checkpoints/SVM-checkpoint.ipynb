{
 "cells": [
  {
   "cell_type": "code",
   "execution_count": 1,
   "metadata": {},
   "outputs": [],
   "source": [
    "import numpy as np\n",
    "import matplotlib.pyplot as plt\n",
    "from functions import *\n",
    "\n",
    "\n",
    "# load the histograms and the labels\n",
    "histograms = np.load(os.path.join('colour_histograms','hsv.dat'))\n",
    "labels = np.load(os.path.join('colour_histograms','labels.dat'))"
   ]
  },
  {
   "cell_type": "code",
   "execution_count": 2,
   "metadata": {},
   "outputs": [],
   "source": [
    "# generate a random permutation of our data samples\n",
    "data_size = len(labels)\n",
    "perm = np.random.permutation(data_size)\n",
    "\n",
    "# shuffle the data\n",
    "histograms = histograms[perm]\n",
    "labels = labels[perm]\n",
    "\n",
    "# cast the histograms to floats\n",
    "histograms = 100 * histograms.astype(np.float32)\n",
    "\n",
    "# split into training and testing data\n",
    "training_percentage = 0.8\n",
    "\n",
    "histograms_train = histograms[:int(training_percentage * data_size)]\n",
    "labels_train = labels[:int(training_percentage * data_size)]\n",
    "histograms_test = histograms[int(training_percentage * data_size):]\n",
    "labels_test = labels[int(training_percentage * data_size):]"
   ]
  },
  {
   "cell_type": "markdown",
   "metadata": {},
   "source": [
    "# Support Vector Machine for Classification"
   ]
  },
  {
   "cell_type": "markdown",
   "metadata": {},
   "source": [
    "## Linear SVM"
   ]
  },
  {
   "cell_type": "code",
   "execution_count": 3,
   "metadata": {},
   "outputs": [
    {
     "name": "stdout",
     "output_type": "stream",
     "text": [
      "Training Accuracy : 50.23%\n",
      "Testing  Accuracy : 41.16%\n"
     ]
    }
   ],
   "source": [
    "from sklearn.svm import SVC\n",
    "from sklearn.metrics import accuracy_score\n",
    "    \n",
    "# create the svm component\n",
    "lin_clf = SVC(kernel='linear')\n",
    "\n",
    "# fit the data using the SVM\n",
    "lin_clf.fit(histograms_train, labels_train)\n",
    "\n",
    "# predict the classes of the test data\n",
    "test_predictions = lin_clf.predict(histograms_test)\n",
    "# predict the classes of the training data\n",
    "train_predictions = lin_clf.predict(histograms_train)\n",
    "\n",
    "test_score = accuracy_score(labels_test, test_predictions)\n",
    "train_score = accuracy_score(labels_train, train_predictions)\n",
    "\n",
    "print('Training Accuracy : {0:.2f}%'.format(100 * train_score))\n",
    "print('Testing  Accuracy : {0:.2f}%'.format(100 * test_score))"
   ]
  },
  {
   "cell_type": "markdown",
   "metadata": {},
   "source": [
    "### Confussion Matrix (for Linear SVM)"
   ]
  },
  {
   "cell_type": "code",
   "execution_count": 4,
   "metadata": {},
   "outputs": [
    {
     "name": "stdout",
     "output_type": "stream",
     "text": [
      "          |     daisy | dandelion |      rose | sunflower |     tulip\n",
      "    daisy |        49 |        46 |        15 |         8 |        29\n",
      "dandelion |        35 |       125 |        19 |        25 |        14\n",
      "     rose |        18 |        24 |        57 |         4 |        49\n",
      "sunflower |        19 |        45 |         5 |        57 |        25\n",
      "    tulip |        24 |        50 |        43 |        12 |        68\n"
     ]
    }
   ],
   "source": [
    "confusion_matrix(labels_test, test_predictions)"
   ]
  },
  {
   "cell_type": "markdown",
   "metadata": {},
   "source": [
    "## Kernel SVM"
   ]
  },
  {
   "cell_type": "code",
   "execution_count": 5,
   "metadata": {},
   "outputs": [
    {
     "name": "stdout",
     "output_type": "stream",
     "text": [
      "Training Accuracy : 97.98%\n",
      "Testing  Accuracy : 35.03%\n"
     ]
    }
   ],
   "source": [
    "from sklearn.svm import SVC\n",
    "from sklearn.metrics import accuracy_score\n",
    "    \n",
    "# create the svm component\n",
    "rbf_clf = SVC(kernel='rbf')\n",
    "\n",
    "# fit the data using the SVM\n",
    "rbf_clf.fit(histograms_train, labels_train)\n",
    "\n",
    "# predict the classes of the test data\n",
    "test_predictions = rbf_clf.predict(histograms_test)\n",
    "# predict the classes of the training data\n",
    "train_predictions = rbf_clf.predict(histograms_train)\n",
    "\n",
    "test_score = accuracy_score(labels_test, test_predictions)\n",
    "train_score = accuracy_score(labels_train, train_predictions)\n",
    "\n",
    "print('Training Accuracy : {0:.2f}%'.format(100 * train_score))\n",
    "print('Testing  Accuracy : {0:.2f}%'.format(100 * test_score))"
   ]
  },
  {
   "cell_type": "markdown",
   "metadata": {},
   "source": [
    "### Confussion Matrix (for Kernel SVM)"
   ]
  },
  {
   "cell_type": "code",
   "execution_count": 6,
   "metadata": {},
   "outputs": [
    {
     "name": "stdout",
     "output_type": "stream",
     "text": [
      "          |     daisy | dandelion |      rose | sunflower |     tulip\n",
      "    daisy |        15 |       109 |         7 |         2 |        14\n",
      "dandelion |         6 |       177 |         9 |        11 |        15\n",
      "     rose |         2 |        97 |        19 |         2 |        32\n",
      "sunflower |         5 |       103 |         1 |        25 |        17\n",
      "    tulip |         5 |       110 |        12 |         3 |        67\n"
     ]
    }
   ],
   "source": [
    "confusion_matrix(labels_test, test_predictions)"
   ]
  }
 ],
 "metadata": {
  "kernelspec": {
   "display_name": "Python [conda env:work]",
   "language": "python",
   "name": "conda-env-work-py"
  },
  "language_info": {
   "codemirror_mode": {
    "name": "ipython",
    "version": 3
   },
   "file_extension": ".py",
   "mimetype": "text/x-python",
   "name": "python",
   "nbconvert_exporter": "python",
   "pygments_lexer": "ipython3",
   "version": "3.6.3"
  }
 },
 "nbformat": 4,
 "nbformat_minor": 2
}
