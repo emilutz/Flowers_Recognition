{
 "cells": [
  {
   "cell_type": "code",
   "execution_count": 1,
   "metadata": {},
   "outputs": [],
   "source": [
    "import numpy as np\n",
    "import matplotlib.pyplot as plt\n",
    "from functions import *\n",
    "\n",
    "\n",
    "# load the histograms and the labels\n",
    "histograms = np.load(os.path.join('colour_histograms','histograms.dat'))\n",
    "labels = np.load(os.path.join('colour_histograms','labels.dat'))"
   ]
  },
  {
   "cell_type": "code",
   "execution_count": null,
   "metadata": {},
   "outputs": [],
   "source": [
    "from collections import Counter\n",
    "from sklearn.cluster import KMeans\n",
    "\n",
    "classes = 5\n",
    "kmeans = KMeans(n_clusters=5, random_state=0).fit(histograms)\n",
    "\n",
    "clusters = classes * [None]\n",
    "for i in range(classes):\n",
    "    clusters[i] = Counter([labels[x] for x in range(classes) if kmeans.labels_[x] == i])\n",
    "\n",
    "print(clusters[0])\n",
    "    \n",
    "# for i in range(classes):\n",
    "#     print('Cluster [{0}]:'.format(i), end=\"\")\n",
    "#     for j in range(classes):\n",
    "#         print('{0:>4d} '.format(clusters[i][j]), end=\"\")\n",
    "#     print(\" \")\n",
    "\n"
   ]
  },
  {
   "cell_type": "code",
   "execution_count": null,
   "metadata": {},
   "outputs": [],
   "source": []
  }
 ],
 "metadata": {
  "kernelspec": {
   "display_name": "Python [conda env:work]",
   "language": "python",
   "name": "conda-env-work-py"
  },
  "language_info": {
   "codemirror_mode": {
    "name": "ipython",
    "version": 3
   },
   "file_extension": ".py",
   "mimetype": "text/x-python",
   "name": "python",
   "nbconvert_exporter": "python",
   "pygments_lexer": "ipython3",
   "version": "3.6.3"
  }
 },
 "nbformat": 4,
 "nbformat_minor": 2
}
